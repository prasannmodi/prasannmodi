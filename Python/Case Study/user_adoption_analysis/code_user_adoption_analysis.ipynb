{
  "nbformat": 4,
  "nbformat_minor": 0,
  "metadata": {
    "colab": {
      "provenance": [],
      "authorship_tag": "ABX9TyPku1tOgWB+sgID4nI8BNTx",
      "include_colab_link": true
    },
    "kernelspec": {
      "name": "python3",
      "display_name": "Python 3"
    },
    "language_info": {
      "name": "python"
    }
  },
  "cells": [
    {
      "cell_type": "markdown",
      "metadata": {
        "id": "view-in-github",
        "colab_type": "text"
      },
      "source": [
        "<a href=\"https://colab.research.google.com/github/prasannmodi/prasannmodi/blob/main/Python/Case%20Study/user_adoption_analysis/code_user_adoption_analysis.ipynb\" target=\"_parent\"><img src=\"https://colab.research.google.com/assets/colab-badge.svg\" alt=\"Open In Colab\"/></a>"
      ]
    },
    {
      "cell_type": "markdown",
      "source": [
        "**Clone Github Repo**"
      ],
      "metadata": {
        "id": "MmPrNKZ2Mp-Z"
      }
    },
    {
      "cell_type": "code",
      "source": [
        "# !git clone https://github.com/prasannmodi/prasannmodi.git"
      ],
      "metadata": {
        "id": "LCTYPT2QMSN5"
      },
      "execution_count": 10,
      "outputs": []
    },
    {
      "cell_type": "markdown",
      "source": [
        "**Load all the required libraries**"
      ],
      "metadata": {
        "id": "4JQ55ZGbMvB7"
      }
    },
    {
      "cell_type": "code",
      "execution_count": 11,
      "metadata": {
        "id": "tU4iVTBJLAnW"
      },
      "outputs": [],
      "source": [
        "import pandas as pd\n",
        "import numpy as np\n",
        "import os"
      ]
    },
    {
      "cell_type": "markdown",
      "source": [
        "**Files Path and names to read files**"
      ],
      "metadata": {
        "id": "8tgk5qvVOQ7q"
      }
    },
    {
      "cell_type": "code",
      "source": [
        "path = \"/content/prasannmodi/Python/Case Study/user_adoption_analysis/\"\n",
        "file1 = \"takehome_user_engagement_1.csv\"\n",
        "file2 = \"takehome_users_2.csv\""
      ],
      "metadata": {
        "id": "6NxdummiLLQ4"
      },
      "execution_count": 16,
      "outputs": []
    },
    {
      "cell_type": "code",
      "source": [
        "# Read Dataset\n",
        "takehome_user_engagement  = pd.read_csv(os.path.join(path, file1))"
      ],
      "metadata": {
        "id": "2N2PMmwZLtzJ"
      },
      "execution_count": 14,
      "outputs": []
    },
    {
      "cell_type": "code",
      "source": [
        "takehome_users  = pd.read_csv(os.path.join(path, file2), encoding='ISO-8859-1')"
      ],
      "metadata": {
        "id": "oB5h1oL6MGgf"
      },
      "execution_count": 18,
      "outputs": []
    },
    {
      "cell_type": "markdown",
      "source": [
        "**# Data Exploration and Preprocessing:**"
      ],
      "metadata": {
        "id": "07uggfd4OiZT"
      }
    },
    {
      "cell_type": "code",
      "source": [
        "def df_explore(df, file_name):\n",
        "  print(\"Data Exploration of\", file_name, \"\\n\")\n",
        "  print(\"Data size-: \\n\", df.shape, \"\\n\")\n",
        "  print(\"Data Format-: \\n\", df.head(), \"\\n\")\n",
        "  print(\"Data info-:\")\n",
        "  df.info()\n",
        "  print(\"\\n Data description-: \\n\", df.describe(), \"\\n\")\n",
        "  print(\"Data % of Null values-: \\n\", df.isnull().sum()/df.shape[0]*100, \"\\n\")"
      ],
      "metadata": {
        "id": "EVj7HWwwQJGk"
      },
      "execution_count": 45,
      "outputs": []
    },
    {
      "cell_type": "code",
      "source": [
        "df_explore(df = takehome_user_engagement, file_name = \"takehome_user_engagement\")"
      ],
      "metadata": {
        "colab": {
          "base_uri": "https://localhost:8080/"
        },
        "id": "WSEwsKbNQJBS",
        "outputId": "870c27e2-26b0-4245-f9e9-f9f85c17ef04"
      },
      "execution_count": 46,
      "outputs": [
        {
          "output_type": "stream",
          "name": "stdout",
          "text": [
            "Data Exploration of takehome_user_engagement \n",
            "\n",
            "Data size-: \n",
            " (207917, 3) \n",
            "\n",
            "Data Format-: \n",
            "             time_stamp  user_id  visited\n",
            "0  2014-04-22 03:53:30        1        1\n",
            "1  2013-11-15 03:45:04        2        1\n",
            "2  2013-11-29 03:45:04        2        1\n",
            "3  2013-12-09 03:45:04        2        1\n",
            "4  2013-12-25 03:45:04        2        1 \n",
            "\n",
            "Data info-:\n",
            "<class 'pandas.core.frame.DataFrame'>\n",
            "RangeIndex: 207917 entries, 0 to 207916\n",
            "Data columns (total 3 columns):\n",
            " #   Column      Non-Null Count   Dtype \n",
            "---  ------      --------------   ----- \n",
            " 0   time_stamp  207917 non-null  object\n",
            " 1   user_id     207917 non-null  int64 \n",
            " 2   visited     207917 non-null  int64 \n",
            "dtypes: int64(2), object(1)\n",
            "memory usage: 4.8+ MB\n",
            "\n",
            " Data description-: \n",
            "              user_id   visited\n",
            "count  207917.000000  207917.0\n",
            "mean     5913.314197       1.0\n",
            "std      3394.941674       0.0\n",
            "min         1.000000       1.0\n",
            "25%      3087.000000       1.0\n",
            "50%      5682.000000       1.0\n",
            "75%      8944.000000       1.0\n",
            "max     12000.000000       1.0 \n",
            "\n",
            "Data % of Null values-: \n",
            " time_stamp    0.0\n",
            "user_id       0.0\n",
            "visited       0.0\n",
            "dtype: float64 \n",
            "\n"
          ]
        }
      ]
    },
    {
      "cell_type": "code",
      "source": [
        "df_explore(df = takehome_users, file_name = \"takehome_users\")"
      ],
      "metadata": {
        "colab": {
          "base_uri": "https://localhost:8080/"
        },
        "id": "ChDh-aKrM_ji",
        "outputId": "05540bda-b1d6-4c02-f101-ff1af0e9cc46"
      },
      "execution_count": 47,
      "outputs": [
        {
          "output_type": "stream",
          "name": "stdout",
          "text": [
            "Data Exploration of takehome_users \n",
            "\n",
            "Data size-: \n",
            " (12000, 10) \n",
            "\n",
            "Data Format-: \n",
            "    object_id        creation_time               name  \\\n",
            "0          1  2014-04-22 03:53:30     Clausen August   \n",
            "1          2  2013-11-15 03:45:04      Poole Matthew   \n",
            "2          3  2013-03-19 23:14:52  Bottrill Mitchell   \n",
            "3          4  2013-05-21 08:09:28    Clausen Nicklas   \n",
            "4          5  2013-01-17 10:14:20          Raw Grace   \n",
            "\n",
            "                        email creation_source  last_session_creation_time  \\\n",
            "0    AugustCClausen@yahoo.com    GUEST_INVITE                1.398139e+09   \n",
            "1      MatthewPoole@gustr.com      ORG_INVITE                1.396238e+09   \n",
            "2  MitchellBottrill@gustr.com      ORG_INVITE                1.363735e+09   \n",
            "3   NicklasSClausen@yahoo.com    GUEST_INVITE                1.369210e+09   \n",
            "4          GraceRaw@yahoo.com    GUEST_INVITE                1.358850e+09   \n",
            "\n",
            "   opted_in_to_mailing_list  enabled_for_marketing_drip  org_id  \\\n",
            "0                         1                           0      11   \n",
            "1                         0                           0       1   \n",
            "2                         0                           0      94   \n",
            "3                         0                           0       1   \n",
            "4                         0                           0     193   \n",
            "\n",
            "   invited_by_user_id  \n",
            "0             10803.0  \n",
            "1               316.0  \n",
            "2              1525.0  \n",
            "3              5151.0  \n",
            "4              5240.0   \n",
            "\n",
            "Data info-:\n",
            "<class 'pandas.core.frame.DataFrame'>\n",
            "RangeIndex: 12000 entries, 0 to 11999\n",
            "Data columns (total 10 columns):\n",
            " #   Column                      Non-Null Count  Dtype  \n",
            "---  ------                      --------------  -----  \n",
            " 0   object_id                   12000 non-null  int64  \n",
            " 1   creation_time               12000 non-null  object \n",
            " 2   name                        12000 non-null  object \n",
            " 3   email                       12000 non-null  object \n",
            " 4   creation_source             12000 non-null  object \n",
            " 5   last_session_creation_time  8823 non-null   float64\n",
            " 6   opted_in_to_mailing_list    12000 non-null  int64  \n",
            " 7   enabled_for_marketing_drip  12000 non-null  int64  \n",
            " 8   org_id                      12000 non-null  int64  \n",
            " 9   invited_by_user_id          6417 non-null   float64\n",
            "dtypes: float64(2), int64(4), object(4)\n",
            "memory usage: 937.6+ KB\n",
            "\n",
            " Data description-: \n",
            "          object_id  last_session_creation_time  opted_in_to_mailing_list  \\\n",
            "count  12000.00000                8.823000e+03              12000.000000   \n",
            "mean    6000.50000                1.379279e+09                  0.249500   \n",
            "std     3464.24595                1.953116e+07                  0.432742   \n",
            "min        1.00000                1.338452e+09                  0.000000   \n",
            "25%     3000.75000                1.363195e+09                  0.000000   \n",
            "50%     6000.50000                1.382888e+09                  0.000000   \n",
            "75%     9000.25000                1.398443e+09                  0.000000   \n",
            "max    12000.00000                1.402067e+09                  1.000000   \n",
            "\n",
            "       enabled_for_marketing_drip        org_id  invited_by_user_id  \n",
            "count                12000.000000  12000.000000         6417.000000  \n",
            "mean                     0.149333    141.884583         5962.957145  \n",
            "std                      0.356432    124.056723         3383.761968  \n",
            "min                      0.000000      0.000000            3.000000  \n",
            "25%                      0.000000     29.000000         3058.000000  \n",
            "50%                      0.000000    108.000000         5954.000000  \n",
            "75%                      0.000000    238.250000         8817.000000  \n",
            "max                      1.000000    416.000000        11999.000000   \n",
            "\n",
            "Data % of Null values-: \n",
            " object_id                      0.000\n",
            "creation_time                  0.000\n",
            "name                           0.000\n",
            "email                          0.000\n",
            "creation_source                0.000\n",
            "last_session_creation_time    26.475\n",
            "opted_in_to_mailing_list       0.000\n",
            "enabled_for_marketing_drip     0.000\n",
            "org_id                         0.000\n",
            "invited_by_user_id            46.525\n",
            "dtype: float64 \n",
            "\n"
          ]
        }
      ]
    },
    {
      "cell_type": "code",
      "source": [],
      "metadata": {
        "id": "wfMEIhHmPRbY"
      },
      "execution_count": 47,
      "outputs": []
    },
    {
      "cell_type": "code",
      "source": [],
      "metadata": {
        "id": "p_y9xByUPRWU"
      },
      "execution_count": 47,
      "outputs": []
    },
    {
      "cell_type": "markdown",
      "source": [],
      "metadata": {
        "id": "i-KYw0e6OhBg"
      }
    },
    {
      "cell_type": "code",
      "source": [],
      "metadata": {
        "id": "2KXGzMv7P9Dt"
      },
      "execution_count": null,
      "outputs": []
    }
  ]
}